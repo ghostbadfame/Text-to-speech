{
 "cells": [
  {
   "cell_type": "code",
   "execution_count": 19,
   "id": "5759f30c",
   "metadata": {},
   "outputs": [
    {
     "ename": "NameError",
     "evalue": "name 'video' is not defined",
     "output_type": "error",
     "traceback": [
      "\u001b[1;31m---------------------------------------------------------------------------\u001b[0m",
      "\u001b[1;31mNameError\u001b[0m                                 Traceback (most recent call last)",
      "Cell \u001b[1;32mIn[19], line 30\u001b[0m\n\u001b[0;32m     28\u001b[0m cv2\u001b[38;5;241m.\u001b[39mimshow(\u001b[38;5;124m'\u001b[39m\u001b[38;5;124mVideo Capture\u001b[39m\u001b[38;5;124m'\u001b[39m, frames)  \n\u001b[0;32m     29\u001b[0m \u001b[38;5;28;01mif\u001b[39;00m cv2\u001b[38;5;241m.\u001b[39mwaitKey(\u001b[38;5;241m1\u001b[39m) \u001b[38;5;241m&\u001b[39m \u001b[38;5;241m0xFF\u001b[39m \u001b[38;5;241m==\u001b[39m \u001b[38;5;28mord\u001b[39m(\u001b[38;5;124m'\u001b[39m\u001b[38;5;124mq\u001b[39m\u001b[38;5;124m'\u001b[39m):\n\u001b[1;32m---> 30\u001b[0m     \u001b[43mvideo\u001b[49m\u001b[38;5;241m.\u001b[39mrelease()\n\u001b[0;32m     31\u001b[0m     cv2\u001b[38;5;241m.\u001b[39mdestroyAllWindows()\n\u001b[0;32m     32\u001b[0m     \u001b[38;5;28;01mbreak\u001b[39;00m\n",
      "\u001b[1;31mNameError\u001b[0m: name 'video' is not defined"
     ]
    }
   ],
   "source": [
    "import numpy as np\n",
    "import pytesseract\n",
    "import cv2\n",
    "pytesseract.pytesseract.tesseract_cmd=r'C:\\\\Program Files\\\\Tesseract-OCR\\\\tesseract.exe'\n",
    "\n",
    "font_scale=1.5\n",
    "font=cv2.FONT_HERSHEY_PLAIN\n",
    "\n",
    "cap=cv2.VideoCapture(1)\n",
    "\n",
    "if not cap.isOpened():\n",
    "    cap = cv2.VideoCapture(0)\n",
    "if not cap.isOpened():\n",
    "    raise IOError(\"cannot open video\")\n",
    "\n",
    "while True:\n",
    "    check, frames = cap.read()\n",
    "    data4 = pytesseract.image_to_data(frames)\n",
    "    for z,a in enumerate(data4.splitlines()):\n",
    "        if z!=0:\n",
    "            a=a.split()\n",
    "            if len(a) == 12:\n",
    "                x,y=int(a[6]),int(a[7])\n",
    "                w,h=int(a[8]),int(a[9])\n",
    "                cv2.rectangle(frames,(x,y),(x+w,y+h),(255,0,0),1)\n",
    "                cv2.putText(frames,a[11], (x,y+25), cv2.FONT_HERSHEY_COMPLEX,1,(0,0,255),2)  \n",
    "\n",
    "    cv2.imshow('Video Capture', frames)  \n",
    "    if cv2.waitKey(1) & 0xFF == ord('q'):\n",
    "        video.release()\n",
    "        cv2.destroyAllWindows()\n",
    "        break\n",
    "\n",
    "cap.release()            \n",
    "cv2.destroyAllWindows()\n",
    "    "
   ]
  },
  {
   "cell_type": "code",
   "execution_count": null,
   "id": "ebbb01aa",
   "metadata": {},
   "outputs": [],
   "source": []
  }
 ],
 "metadata": {
  "kernelspec": {
   "display_name": "Python 3 (ipykernel)",
   "language": "python",
   "name": "python3"
  },
  "language_info": {
   "codemirror_mode": {
    "name": "ipython",
    "version": 3
   },
   "file_extension": ".py",
   "mimetype": "text/x-python",
   "name": "python",
   "nbconvert_exporter": "python",
   "pygments_lexer": "ipython3",
   "version": "3.10.9"
  }
 },
 "nbformat": 4,
 "nbformat_minor": 5
}
